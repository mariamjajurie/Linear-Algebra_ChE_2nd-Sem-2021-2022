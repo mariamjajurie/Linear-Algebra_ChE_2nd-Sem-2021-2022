{
  "nbformat": 4,
  "nbformat_minor": 0,
  "metadata": {
    "colab": {
      "name": "Activity 1 - Python Fundamentals",
      "provenance": [],
      "collapsed_sections": [],
      "toc_visible": true,
      "authorship_tag": "ABX9TyP1PcQCaRFCUmWZnQW1noBH",
      "include_colab_link": true
    },
    "kernelspec": {
      "name": "python3",
      "display_name": "Python 3"
    },
    "language_info": {
      "name": "python"
    }
  },
  "cells": [
    {
      "cell_type": "markdown",
      "metadata": {
        "id": "view-in-github",
        "colab_type": "text"
      },
      "source": [
        "<a href=\"https://colab.research.google.com/github/mariamjajurie/mariamjajurie-Linear-Algebra_ChE_2nd-Sem-2021-2022/blob/main/Activity_1_Python_Fundamentals.ipynb\" target=\"_parent\"><img src=\"https://colab.research.google.com/assets/colab-badge.svg\" alt=\"Open In Colab\"/></a>"
      ]
    },
    {
      "cell_type": "markdown",
      "source": [
        "io"
      ],
      "metadata": {
        "id": "9vZbWDt5_CyV"
      }
    },
    {
      "cell_type": "code",
      "execution_count": 10,
      "metadata": {
        "id": "Bt5JD_4S94LA",
        "colab": {
          "base_uri": "https://localhost:8080/"
        },
        "outputId": "b3c6aefb-56cb-457b-93cb-c3363820e909"
      },
      "outputs": [
        {
          "output_type": "stream",
          "name": "stdout",
          "text": [
            "The weights of your semestral grades are:\n",
            "\t30.00% for Prelims\n",
            "\t30.00% for Midterms, and\n",
            "\t40.00% for Finals.\n"
          ]
        }
      ],
      "source": [
        "w_pg, w_mg, w_fg = 0.3, 0.3, 0.4\n",
        "print(\"The weights of your semestral grades are:\\\n",
        "\\n\\t{:.2%} for Prelims\\\n",
        "\\n\\t{:.2%} for Midterms, and\\\n",
        "\\n\\t{:.2%} for Finals.\".format(w_pg, w_mg, w_fg))"
      ]
    },
    {
      "cell_type": "markdown",
      "source": [
        "input"
      ],
      "metadata": {
        "id": "AaCtATPhCtGf"
      }
    },
    {
      "cell_type": "code",
      "source": [
        "x = input(\"enter a number: \")\n",
        "x"
      ],
      "metadata": {
        "colab": {
          "base_uri": "https://localhost:8080/",
          "height": 53
        },
        "id": "g4ZzvA_1DMVW",
        "outputId": "cbc6b908-83ad-49b0-cc78-a06da09cae31"
      },
      "execution_count": 12,
      "outputs": [
        {
          "name": "stdout",
          "output_type": "stream",
          "text": [
            "enter a number: 8\n"
          ]
        },
        {
          "output_type": "execute_result",
          "data": {
            "application/vnd.google.colaboratory.intrinsic+json": {
              "type": "string"
            },
            "text/plain": [
              "'8'"
            ]
          },
          "metadata": {},
          "execution_count": 12
        }
      ]
    },
    {
      "cell_type": "markdown",
      "source": [
        "name"
      ],
      "metadata": {
        "id": "n82sody_DWUk"
      }
    },
    {
      "cell_type": "code",
      "source": [
        "name = input(\"input name: \")\n",
        "pg = input(\"enter prelim grade: \")\n",
        "mg = input(\"enter midterm grade: \")\n",
        "fg = input(\"enter final grade: \")\n",
        "sem_grade = 85\n",
        "print(\"Hello {}, your semestral grade is: {}\".format(name, sem_grade))"
      ],
      "metadata": {
        "colab": {
          "base_uri": "https://localhost:8080/"
        },
        "id": "3Ci52buVDpqn",
        "outputId": "e0540440-1bdf-4cff-fdab-33e83af6adfd"
      },
      "execution_count": 14,
      "outputs": [
        {
          "output_type": "stream",
          "name": "stdout",
          "text": [
            "input name: Mariam\n",
            "enter prelim grade: 85\n",
            "enter midterm grade: 85\n",
            "enter final grade: 85\n",
            "Hello Mariam, your semestral grade is: 85\n"
          ]
        }
      ]
    },
    {
      "cell_type": "markdown",
      "source": [
        "**looping statements**"
      ],
      "metadata": {
        "id": "9pRmmZAnFBV4"
      }
    },
    {
      "cell_type": "markdown",
      "source": [
        "while"
      ],
      "metadata": {
        "id": "TSWn1YRYFGEg"
      }
    },
    {
      "cell_type": "code",
      "source": [
        "## while loops\n",
        "i, j = 0, 10\n",
        "while(i<=j):\n",
        "  print(f\"{i}\\t|\\t{j}\")\n",
        "  i+=1"
      ],
      "metadata": {
        "colab": {
          "base_uri": "https://localhost:8080/"
        },
        "id": "za1FmLRTFDpd",
        "outputId": "08ae29f1-b4f9-4149-e2b8-b74c0993648c"
      },
      "execution_count": 18,
      "outputs": [
        {
          "output_type": "stream",
          "name": "stdout",
          "text": [
            "0\t|\t10\n",
            "1\t|\t10\n",
            "2\t|\t10\n",
            "3\t|\t10\n",
            "4\t|\t10\n",
            "5\t|\t10\n",
            "6\t|\t10\n",
            "7\t|\t10\n",
            "8\t|\t10\n",
            "9\t|\t10\n",
            "10\t|\t10\n"
          ]
        }
      ]
    },
    {
      "cell_type": "markdown",
      "source": [
        "For\n"
      ],
      "metadata": {
        "id": "yymBTQTuGa8U"
      }
    },
    {
      "cell_type": "code",
      "source": [
        "# for(int i=0; i<10; i++){\n",
        "# printf(i)\n",
        "# }\n",
        "\n",
        "i=0\n",
        "for i in range(10):\n",
        "    print(i)"
      ],
      "metadata": {
        "colab": {
          "base_uri": "https://localhost:8080/"
        },
        "id": "_Be_4w84Gd5L",
        "outputId": "a10f7adc-5553-4c3f-da78-1b0512147c18"
      },
      "execution_count": 23,
      "outputs": [
        {
          "output_type": "stream",
          "name": "stdout",
          "text": [
            "0\n",
            "1\n",
            "2\n",
            "3\n",
            "4\n",
            "5\n",
            "6\n",
            "7\n",
            "8\n",
            "9\n"
          ]
        }
      ]
    },
    {
      "cell_type": "markdown",
      "source": [
        "playlist"
      ],
      "metadata": {
        "id": "GFf1lVuoHrAT"
      }
    },
    {
      "cell_type": "code",
      "source": [
        "playlist = [\"answer\", \"view\", \"merry bad ending\"]\n",
        "print(\"Now Playing;\\n\")\n",
        "for song in playlist:\n",
        "    print(song)"
      ],
      "metadata": {
        "colab": {
          "base_uri": "https://localhost:8080/"
        },
        "id": "mmmZUqpfHstT",
        "outputId": "255901d1-762b-44f5-dc94-43ef2e4468b6"
      },
      "execution_count": 24,
      "outputs": [
        {
          "output_type": "stream",
          "name": "stdout",
          "text": [
            "Now Playing;\n",
            "\n",
            "answer\n",
            "view\n"
          ]
        }
      ]
    },
    {
      "cell_type": "markdown",
      "source": [
        "**flow control**"
      ],
      "metadata": {
        "id": "hrL76qtIIKSu"
      }
    },
    {
      "cell_type": "markdown",
      "source": [
        "condition statements"
      ],
      "metadata": {
        "id": "y90kMG-UIL0f"
      }
    },
    {
      "cell_type": "code",
      "source": [
        "numeral1, numeral2 = 8, 1\n",
        "if(numeral1 == numeral2):\n",
        "    print(\"hey\")\n",
        "elif(numeral1>numeral2):\n",
        "  print(\"fix on\")\n",
        "else:\n",
        "  print(\"aigoo\")"
      ],
      "metadata": {
        "colab": {
          "base_uri": "https://localhost:8080/"
        },
        "id": "C8dhZ_s0IQre",
        "outputId": "b6d4d4dc-f964-4fca-fe4a-2445b5ad44ab"
      },
      "execution_count": 32,
      "outputs": [
        {
          "output_type": "stream",
          "name": "stdout",
          "text": [
            "fix on\n"
          ]
        }
      ]
    },
    {
      "cell_type": "markdown",
      "source": [
        "Functions"
      ],
      "metadata": {
        "id": "5J8jmLSWJ1vr"
      }
    },
    {
      "cell_type": "code",
      "source": [
        "#void DeleteUser(int userid){\n",
        "#     delete(userid);   \n",
        "# }\n",
        "\n",
        "def delete_user (userid):\n",
        "  print(\"successfully deleted user: {}\".format(userid))\n",
        "  \n",
        "def delete_all_users ():\n",
        "  print(\"successfully deleted all users\")\n",
        "\n",
        "userid = 160223\n",
        "delete_user(160223)\n",
        "delete_all_users()"
      ],
      "metadata": {
        "colab": {
          "base_uri": "https://localhost:8080/"
        },
        "id": "MUIQQj4pJ3cO",
        "outputId": "82006b43-0043-45bc-833e-ec51d12ac396"
      },
      "execution_count": 58,
      "outputs": [
        {
          "output_type": "stream",
          "name": "stdout",
          "text": [
            "successfully deleted user: 160223\n",
            "successfully deleted all users\n"
          ]
        }
      ]
    },
    {
      "cell_type": "markdown",
      "source": [
        "add"
      ],
      "metadata": {
        "id": "JAY8FCwzM5PF"
      }
    },
    {
      "cell_type": "code",
      "source": [
        "def add(addend1, addend2):\n",
        "  print(\"hey\")\n",
        "  return addend1 + addend2\n",
        "\n",
        "def power_of_base2(exponent):\n",
        "  print(\"go\")\n",
        "  return 6**exponent\n",
        "\n",
        "addend1 = 8\n",
        "addend2 = 23\n",
        "\n",
        "\n",
        "exponent = 5\n",
        "\n",
        "#add (addend1, addend2)\n",
        "power_of_base2(exponent)\n"
      ],
      "metadata": {
        "colab": {
          "base_uri": "https://localhost:8080/"
        },
        "id": "9xAU-FqgM7Rm",
        "outputId": "fc5ddacd-f455-4108-9d52-edd0d5016273"
      },
      "execution_count": 74,
      "outputs": [
        {
          "output_type": "stream",
          "name": "stdout",
          "text": [
            "go\n"
          ]
        },
        {
          "output_type": "execute_result",
          "data": {
            "text/plain": [
              "7776"
            ]
          },
          "metadata": {},
          "execution_count": 74
        }
      ]
    },
    {
      "cell_type": "code",
      "source": [
        "add(addend1, addend2)"
      ],
      "metadata": {
        "colab": {
          "base_uri": "https://localhost:8080/"
        },
        "id": "rcM4ES4yODLF",
        "outputId": "3f848c57-4cd9-4e84-d011-8da5e717cbef"
      },
      "execution_count": 75,
      "outputs": [
        {
          "output_type": "stream",
          "name": "stdout",
          "text": [
            "hey\n"
          ]
        },
        {
          "output_type": "execute_result",
          "data": {
            "text/plain": [
              "31"
            ]
          },
          "metadata": {},
          "execution_count": 75
        }
      ]
    },
    {
      "cell_type": "markdown",
      "source": [
        "grade calculator computation"
      ],
      "metadata": {
        "id": "NcdMPObcO88r"
      }
    },
    {
      "cell_type": "code",
      "source": [
        ""
      ],
      "metadata": {
        "id": "vN8rzG8UPPY3"
      },
      "execution_count": null,
      "outputs": []
    }
  ]
}