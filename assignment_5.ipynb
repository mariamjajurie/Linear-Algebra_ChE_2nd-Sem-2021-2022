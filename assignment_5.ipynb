{
  "nbformat": 4,
  "nbformat_minor": 0,
  "metadata": {
    "colab": {
      "name": "assignment 5.ipynb",
      "provenance": [],
      "include_colab_link": true
    },
    "kernelspec": {
      "name": "python3",
      "display_name": "Python 3"
    },
    "language_info": {
      "name": "python"
    }
  },
  "cells": [
    {
      "cell_type": "markdown",
      "metadata": {
        "id": "view-in-github",
        "colab_type": "text"
      },
      "source": [
        "<a href=\"https://colab.research.google.com/github/mariamjajurie/Linear-Algebra_ChE_2nd-Sem-2021-2022/blob/main/assignment_5.ipynb\" target=\"_parent\"><img src=\"https://colab.research.google.com/assets/colab-badge.svg\" alt=\"Open In Colab\"/></a>"
      ]
    },
    {
      "cell_type": "markdown",
      "source": [
        "#<b>matrix multiplication properties</b>\n",
        "\n",
        "\n",
        "Prove and implement the remaining 6 matrix multiplication properties. You may create your own matrices in which their shapes should not be lower than \n",
        "(3,3)\n",
        ". In your methodology, create individual flowcharts for each property and discuss the property you would then present your proofs or validity of your implementation in the results section by comparing your result to present functions from NumPy.\n"
      ],
      "metadata": {
        "id": "eowtkR9F1pU5"
      }
    },
    {
      "cell_type": "code",
      "source": [
        "import numpy as np\n",
        "import matplotlib.pyplot as plt\n",
        "import scipy.linalg as la\n",
        "%matplotlib inline"
      ],
      "metadata": {
        "id": "ZDUN3QpVTE0p"
      },
      "execution_count": null,
      "outputs": []
    },
    {
      "cell_type": "markdown",
      "source": [
        " ### 1. $A \\cdot B \\neq B \\cdot A$"
      ],
      "metadata": {
        "id": "nV-J4U5H2jpR"
      }
    },
    {
      "cell_type": "code",
      "source": [
        "B = np.array([\n",
        "    [1,2,6],\n",
        "    [4,0,3],\n",
        "    [8,1,9]\n",
        "])\n",
        "Y = np.array([\n",
        "              [4,7,8],\n",
        "              [3,7,8],\n",
        "              [3,8,1]\n",
        "])\n"
      ],
      "metadata": {
        "id": "MDEnGM-L2rla"
      },
      "execution_count": null,
      "outputs": []
    },
    {
      "cell_type": "code",
      "source": [
        "T = B@Y\n",
        "T"
      ],
      "metadata": {
        "colab": {
          "base_uri": "https://localhost:8080/"
        },
        "id": "OL1OKYivA4T0",
        "outputId": "c994ee34-b882-4ccd-875e-1f0257f44527"
      },
      "execution_count": null,
      "outputs": [
        {
          "output_type": "execute_result",
          "data": {
            "text/plain": [
              "array([[ 28,  69,  30],\n",
              "       [ 25,  52,  35],\n",
              "       [ 62, 135,  81]])"
            ]
          },
          "metadata": {},
          "execution_count": 26
        }
      ]
    },
    {
      "cell_type": "code",
      "source": [
        "Z = Y@B\n",
        "Z"
      ],
      "metadata": {
        "colab": {
          "base_uri": "https://localhost:8080/"
        },
        "id": "mXka5A-cBD6u",
        "outputId": "88ec17d6-de78-4edb-c38c-222e84b82965"
      },
      "execution_count": null,
      "outputs": [
        {
          "output_type": "execute_result",
          "data": {
            "text/plain": [
              "array([[ 96,  16, 117],\n",
              "       [ 95,  14, 111],\n",
              "       [ 43,   7,  51]])"
            ]
          },
          "metadata": {},
          "execution_count": 6
        }
      ]
    },
    {
      "cell_type": "code",
      "source": [
        "np.array_equiv(T,Z)"
      ],
      "metadata": {
        "colab": {
          "base_uri": "https://localhost:8080/"
        },
        "id": "XqhwaabxBMgz",
        "outputId": "e497c7c8-45d9-432f-e02d-73a6d5a13f6b"
      },
      "execution_count": null,
      "outputs": [
        {
          "output_type": "execute_result",
          "data": {
            "text/plain": [
              "False"
            ]
          },
          "metadata": {},
          "execution_count": 7
        }
      ]
    },
    {
      "cell_type": "markdown",
      "source": [
        "###2. $A \\cdot (B \\cdot C) = (A \\cdot B) \\cdot C$\n",
        "####associative property"
      ],
      "metadata": {
        "id": "3lu335Ct2r9o"
      }
    },
    {
      "cell_type": "code",
      "source": [
        "C = np.array([\n",
        "              [1,1,1,7],\n",
        "              [1,0,1,2],\n",
        "              [1,1,2,6]\n",
        "])\n",
        "\n",
        "D = np.array([\n",
        "              [1,3,4],\n",
        "              [6,3,8],\n",
        "              [3,2,9],\n",
        "              [2,6,7]\n",
        "])\n",
        "\n",
        "E = np.array([\n",
        "              [5,2,3],\n",
        "              [7,5,4],\n",
        "              [1,3,5]    \n",
        "])"
      ],
      "metadata": {
        "id": "j7eo6dC92zdH"
      },
      "execution_count": null,
      "outputs": []
    },
    {
      "cell_type": "code",
      "source": [
        "J = C@(D@E)\n",
        "J"
      ],
      "metadata": {
        "colab": {
          "base_uri": "https://localhost:8080/"
        },
        "id": "oq0ObN4cTB9h",
        "outputId": "b91b0882-ec10-44c5-d30e-3d52a295c99d"
      },
      "execution_count": null,
      "outputs": [
        {
          "output_type": "execute_result",
          "data": {
            "text/plain": [
              "array([[540, 508, 622],\n",
              "       [186, 182, 227],\n",
              "       [519, 496, 619]])"
            ]
          },
          "metadata": {},
          "execution_count": 9
        }
      ]
    },
    {
      "cell_type": "code",
      "source": [
        "K = (C@D)@E\n",
        "K"
      ],
      "metadata": {
        "colab": {
          "base_uri": "https://localhost:8080/"
        },
        "id": "KHMMCaVUTKVu",
        "outputId": "d4e58185-c5c3-4939-a7d8-ea708e903892"
      },
      "execution_count": null,
      "outputs": [
        {
          "output_type": "execute_result",
          "data": {
            "text/plain": [
              "array([[540, 508, 622],\n",
              "       [186, 182, 227],\n",
              "       [519, 496, 619]])"
            ]
          },
          "metadata": {},
          "execution_count": 10
        }
      ]
    },
    {
      "cell_type": "code",
      "source": [
        "np.array_equiv(J,K)"
      ],
      "metadata": {
        "colab": {
          "base_uri": "https://localhost:8080/"
        },
        "id": "NEXIFP6oTXbb",
        "outputId": "5e0eb31c-a31e-442d-b0f0-d7ea87649abe"
      },
      "execution_count": null,
      "outputs": [
        {
          "output_type": "execute_result",
          "data": {
            "text/plain": [
              "True"
            ]
          },
          "metadata": {},
          "execution_count": 11
        }
      ]
    },
    {
      "cell_type": "markdown",
      "source": [
        "### 3. $A\\cdot(B+C) = A\\cdot B + A\\cdot C$\n",
        "####distributive property"
      ],
      "metadata": {
        "id": "ionrhULC2zxK"
      }
    },
    {
      "cell_type": "code",
      "source": [
        "F = np.array([\n",
        "              [7,1,8],\n",
        "              [2,9,6],\n",
        "              [3,4,5],\n",
        "              [8,9,1]\n",
        "])\n",
        "\n",
        "C = np.array([\n",
        "              [1,1,1,7],\n",
        "              [1,0,1,2],\n",
        "              [1,1,2,6]\n",
        "])\n",
        "\n",
        "D = np.array([\n",
        "              [1,3,4,2],\n",
        "              [6,3,8,3],\n",
        "              [3,2,9,4],\n",
        "])"
      ],
      "metadata": {
        "id": "p0azSv082_74"
      },
      "execution_count": null,
      "outputs": []
    },
    {
      "cell_type": "code",
      "source": [
        "L = F@(C+D)\n",
        "L"
      ],
      "metadata": {
        "colab": {
          "base_uri": "https://localhost:8080/"
        },
        "id": "3PNTJzbtahe5",
        "outputId": "206c65c5-db3a-4d1f-b471-cbda49bc1a1b"
      },
      "execution_count": null,
      "outputs": [
        {
          "output_type": "execute_result",
          "data": {
            "text/plain": [
              "array([[ 53,  55, 132, 148],\n",
              "       [ 91,  53, 157, 123],\n",
              "       [ 54,  39, 106,  97],\n",
              "       [ 83,  62, 132, 127]])"
            ]
          },
          "metadata": {},
          "execution_count": 13
        }
      ]
    },
    {
      "cell_type": "code",
      "source": [
        "M = (F@C) + (F@D)\n",
        "M"
      ],
      "metadata": {
        "colab": {
          "base_uri": "https://localhost:8080/"
        },
        "id": "s9C_oeTcbdNn",
        "outputId": "487284b0-c69c-4ec1-c1ec-06d09d899f5d"
      },
      "execution_count": null,
      "outputs": [
        {
          "output_type": "execute_result",
          "data": {
            "text/plain": [
              "array([[ 53,  55, 132, 148],\n",
              "       [ 91,  53, 157, 123],\n",
              "       [ 54,  39, 106,  97],\n",
              "       [ 83,  62, 132, 127]])"
            ]
          },
          "metadata": {},
          "execution_count": 14
        }
      ]
    },
    {
      "cell_type": "code",
      "source": [
        "np.array_equiv(L,M)"
      ],
      "metadata": {
        "colab": {
          "base_uri": "https://localhost:8080/"
        },
        "id": "llAIoMI8bnl0",
        "outputId": "dbadb8e9-f58d-4921-89ad-d4163b1bf3da"
      },
      "execution_count": null,
      "outputs": [
        {
          "output_type": "execute_result",
          "data": {
            "text/plain": [
              "True"
            ]
          },
          "metadata": {},
          "execution_count": 15
        }
      ]
    },
    {
      "cell_type": "markdown",
      "source": [
        "### 4. $(B+C)\\cdot A = B\\cdot A + C\\cdot A$\n",
        "####distributive property"
      ],
      "metadata": {
        "id": "hko6aTo-3AHK"
      }
    },
    {
      "cell_type": "code",
      "source": [
        "F = np.array([\n",
        "              [7,1,8],\n",
        "              [2,9,6],\n",
        "              [3,4,5],\n",
        "              [8,9,1]\n",
        "])\n",
        "\n",
        "C = np.array([\n",
        "              [1,1,1,7],\n",
        "              [1,0,1,2],\n",
        "              [1,1,2,6]\n",
        "])\n",
        "\n",
        "D = np.array([\n",
        "              [1,3,4,2],\n",
        "              [6,3,8,3],\n",
        "              [3,2,9,4],\n",
        "])"
      ],
      "metadata": {
        "id": "dEe-DX-14JQe"
      },
      "execution_count": null,
      "outputs": []
    },
    {
      "cell_type": "code",
      "source": [
        "N = (C+D)@F\n",
        "N"
      ],
      "metadata": {
        "colab": {
          "base_uri": "https://localhost:8080/"
        },
        "id": "vsfYX1CwcE1J",
        "outputId": "ccbcc9ba-7215-460f-8a68-9637de4c994a"
      },
      "execution_count": null,
      "outputs": [
        {
          "output_type": "execute_result",
          "data": {
            "text/plain": [
              "array([[109, 139,  74],\n",
              "       [122, 115, 124],\n",
              "       [147, 165, 115]])"
            ]
          },
          "metadata": {},
          "execution_count": 16
        }
      ]
    },
    {
      "cell_type": "code",
      "source": [
        "P = (C@F) + (D@F)\n",
        "P"
      ],
      "metadata": {
        "colab": {
          "base_uri": "https://localhost:8080/"
        },
        "id": "WY1xGPyqcSqd",
        "outputId": "8a224d58-8f39-4093-ef2b-1fa7577a7ea5"
      },
      "execution_count": null,
      "outputs": [
        {
          "output_type": "execute_result",
          "data": {
            "text/plain": [
              "array([[109, 139,  74],\n",
              "       [122, 115, 124],\n",
              "       [147, 165, 115]])"
            ]
          },
          "metadata": {},
          "execution_count": 22
        }
      ]
    },
    {
      "cell_type": "code",
      "source": [
        "np.array_equiv(N,P)"
      ],
      "metadata": {
        "id": "d1XvCy-Pcb1A",
        "outputId": "87b25f9b-e18c-42fc-a607-3ea9bf980c58",
        "colab": {
          "base_uri": "https://localhost:8080/",
          "height": 165
        }
      },
      "execution_count": null,
      "outputs": [
        {
          "output_type": "error",
          "ename": "NameError",
          "evalue": "ignored",
          "traceback": [
            "\u001b[0;31m---------------------------------------------------------------------------\u001b[0m",
            "\u001b[0;31mNameError\u001b[0m                                 Traceback (most recent call last)",
            "\u001b[0;32m<ipython-input-23-c5c23ebb08d3>\u001b[0m in \u001b[0;36m<module>\u001b[0;34m()\u001b[0m\n\u001b[0;32m----> 1\u001b[0;31m \u001b[0mnp\u001b[0m\u001b[0;34m.\u001b[0m\u001b[0marray_equiv\u001b[0m\u001b[0;34m(\u001b[0m\u001b[0mN\u001b[0m\u001b[0;34m,\u001b[0m\u001b[0mP\u001b[0m\u001b[0;34m)\u001b[0m\u001b[0;34m\u001b[0m\u001b[0;34m\u001b[0m\u001b[0m\n\u001b[0m",
            "\u001b[0;31mNameError\u001b[0m: name 'N' is not defined"
          ]
        }
      ]
    },
    {
      "cell_type": "markdown",
      "source": [
        "### 5. $A\\cdot \\emptyset = \\emptyset$ \n",
        "####zero matrix property"
      ],
      "metadata": {
        "id": "QCCJlRAD3Eim"
      }
    },
    {
      "cell_type": "code",
      "source": [
        "A = np.array([\n",
        "          [0,2,2,3],\n",
        "          [1,0,2,4],\n",
        "          [1,2,0,6],\n",
        "          [1,2,1,3] \n",
        "])\n",
        "\n",
        "O = np.zeros((4,4))"
      ],
      "metadata": {
        "id": "IofErfh14Rn9"
      },
      "execution_count": null,
      "outputs": []
    },
    {
      "cell_type": "code",
      "source": [
        "A@O"
      ],
      "metadata": {
        "colab": {
          "base_uri": "https://localhost:8080/"
        },
        "id": "GPUcTTCKC4MT",
        "outputId": "1622efe5-394a-4738-dddc-18624fc790f8"
      },
      "execution_count": null,
      "outputs": [
        {
          "output_type": "execute_result",
          "data": {
            "text/plain": [
              "array([[0., 0., 0., 0.],\n",
              "       [0., 0., 0., 0.],\n",
              "       [0., 0., 0., 0.],\n",
              "       [0., 0., 0., 0.]])"
            ]
          },
          "metadata": {},
          "execution_count": 18
        }
      ]
    }
  ]
}