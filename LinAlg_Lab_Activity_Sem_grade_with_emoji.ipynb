{
  "nbformat": 4,
  "nbformat_minor": 0,
  "metadata": {
    "colab": {
      "name": "LinAlg Lab Activity: Sem grade with emoji ",
      "provenance": [],
      "authorship_tag": "ABX9TyPjfqriuIkWGOLfqoiy+e3Y",
      "include_colab_link": true
    },
    "kernelspec": {
      "name": "python3",
      "display_name": "Python 3"
    },
    "language_info": {
      "name": "python"
    }
  },
  "cells": [
    {
      "cell_type": "markdown",
      "metadata": {
        "id": "view-in-github",
        "colab_type": "text"
      },
      "source": [
        "<a href=\"https://colab.research.google.com/github/mariamjajurie/Linear-Algebra_ChE_2nd-Sem-2021-2022/blob/main/LinAlg_Lab_Activity_Sem_grade_with_emoji.ipynb\" target=\"_parent\"><img src=\"https://colab.research.google.com/assets/colab-badge.svg\" alt=\"Open In Colab\"/></a>"
      ]
    },
    {
      "cell_type": "code",
      "source": [
        "name = input(\"input name: \")\n",
        "course = input(\"enter course name: \")\n",
        "pg = float(input(\"enter prelim grade: \"))\n",
        "mg = float(input(\"enter midterm grade: \"))\n",
        "fg = float(input(\"enter final grade: \"))\n",
        "\n",
        "\n",
        "sem_grade = float (0.30*pg + 0.30*mg + 0.40*fg)\n",
        "\n",
        "print(\"Hello {}, your semestral grade for {} is: {:.2f}\".format(name, course, sem_grade))\n",
        "\n",
        "\n",
        "if(sem_grade > 70.00):\n",
        "  print(\"\\U0001F600\")\n",
        "elif(sem_grade == 70.00):\n",
        "  print(\"\\U0001F606\")\n",
        "elif(sem_grade<70.00):\n",
        "  print(\"\\U0001F62D\")"
      ],
      "metadata": {
        "colab": {
          "base_uri": "https://localhost:8080/",
          "height": 0
        },
        "id": "3Ci52buVDpqn",
        "outputId": "79d27805-e2fa-44d4-c3e3-f51b08f836be"
      },
      "execution_count": 2,
      "outputs": [
        {
          "output_type": "stream",
          "name": "stdout",
          "text": [
            "input name: mariam\n",
            "enter course name: linear\n",
            "enter prelim grade: 90\n",
            "enter midterm grade: 70\n",
            "enter final grade: 90\n",
            "Hello mariam, your semestral grade for linear is: 84.00\n",
            "😀\n"
          ]
        }
      ]
    },
    {
      "cell_type": "markdown",
      "source": [
        "**float** - Float is a command used in representing real numbers converting a number in a string into decimals.[1]\n",
        "\n",
        "**if else** - An if else statement is used to express conditions on a certain expression. \"If\" is used to establish the original statement, \"elif\" is used to express another condition if it does not fall under the conditions of the original statement, and else is used to express another statement that does not fall under the conditions of the \"if\" and \"elif\" statements. [2]\n",
        "\n",
        "**print** - Print is a command that is used to take any value of parameters declared and prints the values as text. [3]\n",
        "\n",
        "**input** - Input is a command used wherein there is a prompt that will appear for the user to input a text or any value. [4]\n"
      ],
      "metadata": {
        "id": "IuUdPfvTEGur"
      }
    }
  ]
}