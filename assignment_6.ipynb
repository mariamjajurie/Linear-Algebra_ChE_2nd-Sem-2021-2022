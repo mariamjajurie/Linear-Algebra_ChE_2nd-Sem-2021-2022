{
  "nbformat": 4,
  "nbformat_minor": 0,
  "metadata": {
    "colab": {
      "name": "assignment 6.ipynb",
      "provenance": [],
      "authorship_tag": "ABX9TyPY4d3c4MUBeuu/wtK2gGUG",
      "include_colab_link": true
    },
    "kernelspec": {
      "name": "python3",
      "display_name": "Python 3"
    },
    "language_info": {
      "name": "python"
    }
  },
  "cells": [
    {
      "cell_type": "markdown",
      "metadata": {
        "id": "view-in-github",
        "colab_type": "text"
      },
      "source": [
        "<a href=\"https://colab.research.google.com/github/mariamjajurie/Linear-Algebra_ChE_2nd-Sem-2021-2022/blob/main/assignment_6.ipynb\" target=\"_parent\"><img src=\"https://colab.research.google.com/assets/colab-badge.svg\" alt=\"Open In Colab\"/></a>"
      ]
    },
    {
      "cell_type": "markdown",
      "source": [
        "#<b>matrix multiplication properties</b>\n",
        "\n",
        "\n",
        "Prove and implement the remaining 6 matrix multiplication properties. You may create your own matrices in which their shapes should not be lower than \n",
        "(3,3)\n",
        ". In your methodology, create individual flowcharts for each property and discuss the property you would then present your proofs or validity of your implementation in the results section by comparing your result to present functions from NumPy.\n"
      ],
      "metadata": {
        "id": "eowtkR9F1pU5"
      }
    },
    {
      "cell_type": "code",
      "source": [
        "import numpy as np\n",
        "import matplotlib.pyplot as plt\n",
        "import scipy.linalg as la\n",
        "%matplotlib inline"
      ],
      "metadata": {
        "id": "ZDUN3QpVTE0p"
      },
      "execution_count": null,
      "outputs": []
    },
    {
      "cell_type": "markdown",
      "source": [
        " ### 1. $A \\cdot B \\neq B \\cdot A$"
      ],
      "metadata": {
        "id": "nV-J4U5H2jpR"
      }
    },
    {
      "cell_type": "code",
      "source": [
        "B = np.array([\n",
        "    [1,2,6],\n",
        "    [4,0,3],\n",
        "    [8,1,9]\n",
        "])\n",
        "Y = np.array([\n",
        "              [4,7,8],\n",
        "              [3,7,8],\n",
        "              [3,8,1]\n",
        "])\n"
      ],
      "metadata": {
        "id": "MDEnGM-L2rla"
      },
      "execution_count": null,
      "outputs": []
    },
    {
      "cell_type": "code",
      "source": [
        "T = B@Y\n",
        "T"
      ],
      "metadata": {
        "colab": {
          "base_uri": "https://localhost:8080/"
        },
        "id": "OL1OKYivA4T0",
        "outputId": "f1efa8eb-f5cd-4873-9823-3bf2d7fc67b7"
      },
      "execution_count": null,
      "outputs": [
        {
          "output_type": "execute_result",
          "data": {
            "text/plain": [
              "array([[ 28,  69,  30],\n",
              "       [ 25,  52,  35],\n",
              "       [ 62, 135,  81]])"
            ]
          },
          "metadata": {},
          "execution_count": 14
        }
      ]
    },
    {
      "cell_type": "code",
      "source": [
        "Z = Y@B\n",
        "Z"
      ],
      "metadata": {
        "colab": {
          "base_uri": "https://localhost:8080/"
        },
        "id": "mXka5A-cBD6u",
        "outputId": "dacffae7-c83b-4812-85fd-774a4edf42f0"
      },
      "execution_count": null,
      "outputs": [
        {
          "output_type": "execute_result",
          "data": {
            "text/plain": [
              "array([[ 96,  16, 117],\n",
              "       [ 95,  14, 111],\n",
              "       [ 43,   7,  51]])"
            ]
          },
          "metadata": {},
          "execution_count": 15
        }
      ]
    },
    {
      "cell_type": "code",
      "source": [
        "np.array_equiv(T,Z)"
      ],
      "metadata": {
        "colab": {
          "base_uri": "https://localhost:8080/"
        },
        "id": "XqhwaabxBMgz",
        "outputId": "f0247368-f945-4086-b4c7-3b8a427c9a80"
      },
      "execution_count": null,
      "outputs": [
        {
          "output_type": "execute_result",
          "data": {
            "text/plain": [
              "False"
            ]
          },
          "metadata": {},
          "execution_count": 16
        }
      ]
    },
    {
      "cell_type": "markdown",
      "source": [
        "###2. $A \\cdot (B \\cdot C) = (A \\cdot B) \\cdot C$\n",
        "####associative property"
      ],
      "metadata": {
        "id": "3lu335Ct2r9o"
      }
    },
    {
      "cell_type": "code",
      "source": [
        "C = np.array([\n",
        "              [1,1,1,7],\n",
        "              [1,0,1,2],\n",
        "              [1,1,2,6]\n",
        "])\n",
        "\n",
        "D = np.array([\n",
        "              [1,3,4],\n",
        "              [6,3,8],\n",
        "              [3,2,9],\n",
        "              [2,6,7]\n",
        "])\n",
        "\n",
        "E = np.array([\n",
        "              [5,2,3],\n",
        "              [7,5,4],\n",
        "              [1,3,5]    \n",
        "])"
      ],
      "metadata": {
        "id": "j7eo6dC92zdH"
      },
      "execution_count": null,
      "outputs": []
    },
    {
      "cell_type": "code",
      "source": [
        "J = C@(D@E)\n",
        "J"
      ],
      "metadata": {
        "colab": {
          "base_uri": "https://localhost:8080/"
        },
        "id": "oq0ObN4cTB9h",
        "outputId": "7a9f8dda-c4bf-43ab-827d-d797d8ccb174"
      },
      "execution_count": null,
      "outputs": [
        {
          "output_type": "execute_result",
          "data": {
            "text/plain": [
              "array([[540, 508, 622],\n",
              "       [186, 182, 227],\n",
              "       [519, 496, 619]])"
            ]
          },
          "metadata": {},
          "execution_count": 29
        }
      ]
    },
    {
      "cell_type": "code",
      "source": [
        "K = (C@D)@E\n",
        "K"
      ],
      "metadata": {
        "colab": {
          "base_uri": "https://localhost:8080/"
        },
        "id": "KHMMCaVUTKVu",
        "outputId": "fa186838-a1e4-4b53-a41a-4f4f67e79e01"
      },
      "execution_count": null,
      "outputs": [
        {
          "output_type": "execute_result",
          "data": {
            "text/plain": [
              "array([[540, 508, 622],\n",
              "       [186, 182, 227],\n",
              "       [519, 496, 619]])"
            ]
          },
          "metadata": {},
          "execution_count": 30
        }
      ]
    },
    {
      "cell_type": "code",
      "source": [
        "np.array_equiv(J,K)"
      ],
      "metadata": {
        "colab": {
          "base_uri": "https://localhost:8080/"
        },
        "id": "NEXIFP6oTXbb",
        "outputId": "05658cea-0f3a-47be-ceb5-a775ba43c453"
      },
      "execution_count": null,
      "outputs": [
        {
          "output_type": "execute_result",
          "data": {
            "text/plain": [
              "True"
            ]
          },
          "metadata": {},
          "execution_count": 31
        }
      ]
    },
    {
      "cell_type": "markdown",
      "source": [
        "### 3. $A\\cdot(B+C) = A\\cdot B + A\\cdot C$\n",
        "####distributive property"
      ],
      "metadata": {
        "id": "ionrhULC2zxK"
      }
    },
    {
      "cell_type": "code",
      "source": [
        "F = np.array([\n",
        "              [7,1,8],\n",
        "              [2,9,6],\n",
        "              [3,4,5],\n",
        "              [8,9,1]\n",
        "])\n",
        "\n",
        "C = np.array([\n",
        "              [1,1,1,7],\n",
        "              [1,0,1,2],\n",
        "              [1,1,2,6]\n",
        "])\n",
        "\n",
        "D = np.array([\n",
        "              [1,3,4,2],\n",
        "              [6,3,8,3],\n",
        "              [3,2,9,4],\n",
        "])"
      ],
      "metadata": {
        "id": "p0azSv082_74"
      },
      "execution_count": null,
      "outputs": []
    },
    {
      "cell_type": "code",
      "source": [
        "L = F@(C+D)\n",
        "L"
      ],
      "metadata": {
        "colab": {
          "base_uri": "https://localhost:8080/"
        },
        "id": "3PNTJzbtahe5",
        "outputId": "a0d41e7a-b4d7-4348-a577-b14caec95631"
      },
      "execution_count": null,
      "outputs": [
        {
          "output_type": "execute_result",
          "data": {
            "text/plain": [
              "array([[ 53,  55, 132, 148],\n",
              "       [ 91,  53, 157, 123],\n",
              "       [ 54,  39, 106,  97],\n",
              "       [ 83,  62, 132, 127]])"
            ]
          },
          "metadata": {},
          "execution_count": 38
        }
      ]
    },
    {
      "cell_type": "code",
      "source": [
        "M = (F@C) + (F@D)\n",
        "M"
      ],
      "metadata": {
        "colab": {
          "base_uri": "https://localhost:8080/"
        },
        "id": "s9C_oeTcbdNn",
        "outputId": "665da3bf-7c27-4809-c84c-345e90290b50"
      },
      "execution_count": null,
      "outputs": [
        {
          "output_type": "execute_result",
          "data": {
            "text/plain": [
              "array([[ 53,  55, 132, 148],\n",
              "       [ 91,  53, 157, 123],\n",
              "       [ 54,  39, 106,  97],\n",
              "       [ 83,  62, 132, 127]])"
            ]
          },
          "metadata": {},
          "execution_count": 39
        }
      ]
    },
    {
      "cell_type": "code",
      "source": [
        "np.array_equiv(L,M)"
      ],
      "metadata": {
        "colab": {
          "base_uri": "https://localhost:8080/"
        },
        "id": "llAIoMI8bnl0",
        "outputId": "0b0e545d-3b42-4a06-ddbf-896cd845b8f7"
      },
      "execution_count": null,
      "outputs": [
        {
          "output_type": "execute_result",
          "data": {
            "text/plain": [
              "True"
            ]
          },
          "metadata": {},
          "execution_count": 40
        }
      ]
    },
    {
      "cell_type": "markdown",
      "source": [
        "### 4. $(B+C)\\cdot A = B\\cdot A + C\\cdot A$\n",
        "####distributive property"
      ],
      "metadata": {
        "id": "hko6aTo-3AHK"
      }
    },
    {
      "cell_type": "code",
      "source": [
        "F = np.array([\n",
        "              [7,1,8],\n",
        "              [2,9,6],\n",
        "              [3,4,5],\n",
        "              [8,9,1]\n",
        "])\n",
        "\n",
        "C = np.array([\n",
        "              [1,1,1,7],\n",
        "              [1,0,1,2],\n",
        "              [1,1,2,6]\n",
        "])\n",
        "\n",
        "D = np.array([\n",
        "              [1,3,4,2],\n",
        "              [6,3,8,3],\n",
        "              [3,2,9,4],\n",
        "])"
      ],
      "metadata": {
        "id": "dEe-DX-14JQe"
      },
      "execution_count": null,
      "outputs": []
    },
    {
      "cell_type": "code",
      "source": [
        "N = (C+D)@F\n",
        "N"
      ],
      "metadata": {
        "colab": {
          "base_uri": "https://localhost:8080/"
        },
        "id": "vsfYX1CwcE1J",
        "outputId": "c9494de1-7ccb-495e-92f1-0914b7e2c48f"
      },
      "execution_count": null,
      "outputs": [
        {
          "output_type": "execute_result",
          "data": {
            "text/plain": [
              "array([[109, 139,  74],\n",
              "       [122, 115, 124],\n",
              "       [147, 165, 115]])"
            ]
          },
          "metadata": {},
          "execution_count": 43
        }
      ]
    },
    {
      "cell_type": "code",
      "source": [
        "P = (C@F) + (D@F)\n",
        "P"
      ],
      "metadata": {
        "colab": {
          "base_uri": "https://localhost:8080/"
        },
        "id": "WY1xGPyqcSqd",
        "outputId": "c92bf1f6-2d5e-4e4d-ba9c-d93c1764f3c8"
      },
      "execution_count": null,
      "outputs": [
        {
          "output_type": "execute_result",
          "data": {
            "text/plain": [
              "array([[109, 139,  74],\n",
              "       [122, 115, 124],\n",
              "       [147, 165, 115]])"
            ]
          },
          "metadata": {},
          "execution_count": 44
        }
      ]
    },
    {
      "cell_type": "code",
      "source": [
        "np.array_equiv(N,P)"
      ],
      "metadata": {
        "id": "d1XvCy-Pcb1A",
        "outputId": "3302f987-6637-40fe-e594-7dcc03b1d211",
        "colab": {
          "base_uri": "https://localhost:8080/"
        }
      },
      "execution_count": null,
      "outputs": [
        {
          "output_type": "execute_result",
          "data": {
            "text/plain": [
              "True"
            ]
          },
          "metadata": {},
          "execution_count": 45
        }
      ]
    },
    {
      "cell_type": "markdown",
      "source": [
        "### 5. $A\\cdot \\emptyset = \\emptyset$ \n",
        "####zero matrix property"
      ],
      "metadata": {
        "id": "QCCJlRAD3Eim"
      }
    },
    {
      "cell_type": "code",
      "source": [
        "A = np.array([\n",
        "          [0,2,2,3],\n",
        "          [1,0,2,4],\n",
        "          [1,2,0,6],\n",
        "          [1,2,1,3] \n",
        "])\n",
        "\n",
        "O = np.zeros((4,4))"
      ],
      "metadata": {
        "id": "IofErfh14Rn9"
      },
      "execution_count": null,
      "outputs": []
    },
    {
      "cell_type": "code",
      "source": [
        "A@O"
      ],
      "metadata": {
        "colab": {
          "base_uri": "https://localhost:8080/"
        },
        "id": "GPUcTTCKC4MT",
        "outputId": "1381b190-d7c1-400a-d5bf-906cb0158bb3"
      },
      "execution_count": null,
      "outputs": [
        {
          "output_type": "execute_result",
          "data": {
            "text/plain": [
              "array([[0., 0., 0., 0.],\n",
              "       [0., 0., 0., 0.],\n",
              "       [0., 0., 0., 0.],\n",
              "       [0., 0., 0., 0.]])"
            ]
          },
          "metadata": {},
          "execution_count": 22
        }
      ]
    }
  ]
}