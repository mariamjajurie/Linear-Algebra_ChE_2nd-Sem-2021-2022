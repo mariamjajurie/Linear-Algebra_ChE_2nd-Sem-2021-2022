{
  "nbformat": 4,
  "nbformat_minor": 0,
  "metadata": {
    "colab": {
      "name": "Assignment 10",
      "provenance": [],
      "authorship_tag": "ABX9TyM8joutbrIpMCoX0KeaT8Uf",
      "include_colab_link": true
    },
    "kernelspec": {
      "name": "python3",
      "display_name": "Python 3"
    },
    "language_info": {
      "name": "python"
    }
  },
  "cells": [
    {
      "cell_type": "markdown",
      "metadata": {
        "id": "view-in-github",
        "colab_type": "text"
      },
      "source": [
        "<a href=\"https://colab.research.google.com/github/mariamjajurie/Linear-Algebra_ChE_2nd-Sem-2021-2022/blob/main/Assignment_10.ipynb\" target=\"_parent\"><img src=\"https://colab.research.google.com/assets/colab-badge.svg\" alt=\"Open In Colab\"/></a>"
      ]
    },
    {
      "cell_type": "markdown",
      "source": [
        "# <b>Laboratory 10 : Linear Combination and Vector Spaces"
      ],
      "metadata": {
        "id": "hOdVpvmx63ER"
      }
    },
    {
      "cell_type": "code",
      "metadata": {
        "id": "ZQYRaKtkO9S1"
      },
      "source": [
        "import numpy as np\n",
        "import matplotlib.pyplot as plt\n",
        "%matplotlib inline"
      ],
      "execution_count": 3,
      "outputs": []
    },
    {
      "cell_type": "markdown",
      "source": [
        "$$A = \\begin{bmatrix} 8\\\\1 \\\\\\end{bmatrix} , Z = \\begin{bmatrix} 11\\\\17 \\\\\\end{bmatrix} $$"
      ],
      "metadata": {
        "id": "4NZKTbkLG2O0"
      }
    },
    {
      "cell_type": "code",
      "source": [
        "VectA = np.array([8,1])\n",
        "VectZ = np.array([11,17])\n",
        "VectZ"
      ],
      "metadata": {
        "colab": {
          "base_uri": "https://localhost:8080/"
        },
        "id": "42Y54AT9JYzI",
        "outputId": "d84ffcb9-d90a-487b-ae7a-e6e164a7bf5c"
      },
      "execution_count": 5,
      "outputs": [
        {
          "output_type": "execute_result",
          "data": {
            "text/plain": [
              "array([11, 17])"
            ]
          },
          "metadata": {},
          "execution_count": 5
        }
      ]
    },
    {
      "cell_type": "markdown",
      "source": [
        "##<b>Span of Single Vectors"
      ],
      "metadata": {
        "id": "vyhHN7gSKIGA"
      }
    },
    {
      "cell_type": "markdown",
      "metadata": {
        "id": "1TuPwTkVO9S5"
      },
      "source": [
        "$$A = T\\cdot \\begin{bmatrix} 8\\\\1 \\\\\\end{bmatrix} $$"
      ]
    },
    {
      "cell_type": "code",
      "metadata": {
        "colab": {
          "base_uri": "https://localhost:8080/",
          "height": 265
        },
        "id": "ttPQ0Ti4O9S5",
        "outputId": "ae00cbf1-bbf8-47c6-f5dc-5808ee87d51a"
      },
      "source": [
        "T= np.arange(-5,5,0.05)\n",
        "\n",
        "plt.scatter(T*VectA[0],T*VectA[1])\n",
        "\n",
        "plt.xlim(-5,5)\n",
        "plt.ylim(-5,5)\n",
        "plt.axhline(y=0, color='k')\n",
        "plt.axvline(x=0, color='k')\n",
        "plt.grid()\n",
        "plt.show()"
      ],
      "execution_count": 27,
      "outputs": [
        {
          "output_type": "display_data",
          "data": {
            "text/plain": [
              "<Figure size 432x288 with 1 Axes>"
            ],
            "image/png": "[encoded data removed]"
          },
          "metadata": {
            "needs_background": "light"
          }
        }
      ]
    },
    {
      "cell_type": "markdown",
      "source": [
        "$$Z = T\\cdot \\begin{bmatrix} 11\\\\17 \\\\\\end{bmatrix} $$"
      ],
      "metadata": {
        "id": "QyHD_5gSKodt"
      }
    },
    {
      "cell_type": "code",
      "source": [
        "T= np.arange(-5,5,0.2)\n",
        "\n",
        "plt.scatter(T*VectZ[0],T*VectZ[1])\n",
        "\n",
        "plt.xlim(-20,20)\n",
        "plt.ylim(-20,20)\n",
        "plt.axhline(y=0, color='k')\n",
        "plt.axvline(x=0, color='k')\n",
        "plt.grid()\n",
        "plt.show()"
      ],
      "metadata": {
        "colab": {
          "base_uri": "https://localhost:8080/",
          "height": 269
        },
        "id": "QZjV1LWhLK-v",
        "outputId": "a333c490-3abb-48a5-e3ef-eb82af760b42"
      },
      "execution_count": 20,
      "outputs": [
        {
          "output_type": "display_data",
          "data": {
            "text/plain": [
              "<Figure size 432x288 with 1 Axes>"
            ],
            "image/png": "[encoded data removed]"
          },
          "metadata": {
            "needs_background": "light"
          }
        }
      ]
    },
    {
      "cell_type": "markdown",
      "source": [
        "## <b>Span of a linear combination of vectors"
      ],
      "metadata": {
        "id": "gq5A_bE0MGQ4"
      }
    },
    {
      "cell_type": "markdown",
      "source": [
        "$$H = \\begin{Bmatrix} s_1 \\cdot\\begin{bmatrix} 8\\\\1 \\\\\\end{bmatrix}, \n",
        "s_2\\cdot \\begin{bmatrix} 11\\\\17 \\\\\\end{bmatrix}\\end{Bmatrix} $$"
      ],
      "metadata": {
        "id": "oDJY0mSAMPq0"
      }
    },
    {
      "cell_type": "code",
      "metadata": {
        "colab": {
          "base_uri": "https://localhost:8080/",
          "height": 265
        },
        "id": "Z8UT7UNUO9S6",
        "outputId": "b2dc9d5a-2007-41ec-9f8e-060656077e2d"
      },
      "source": [
        "\n",
        "R = np.arange(-5,5,.5)\n",
        "\n",
        "s1, s2 = np.meshgrid(R,R)\n",
        "\n",
        "VectY = VectA + VectZ\n",
        "spanRx = s1*VectA[0] + s2*VectZ[0]\n",
        "spanRy = s1*VectA[1] + s2*VectZ[1]\n",
        "\n",
        "plt.scatter(spanRx,spanRy, s=8, alpha=0.5)\n",
        "\n",
        "plt.axhline(y=0, color='k')\n",
        "plt.axvline(x=0, color='k')\n",
        "plt.grid()\n",
        "plt.show()"
      ],
      "execution_count": 24,
      "outputs": [
        {
          "output_type": "display_data",
          "data": {
            "text/plain": [
              "<Figure size 432x288 with 1 Axes>"
            ],
            "image/png": "[encoded data removed]"
          },
          "metadata": {
            "needs_background": "light"
          }
        }
      ]
    }
  ]
}