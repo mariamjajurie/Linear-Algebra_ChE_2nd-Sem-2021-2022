{
  "nbformat": 4,
  "nbformat_minor": 0,
  "metadata": {
    "colab": {
      "name": "sem grade w/ emoji ",
      "provenance": [],
      "authorship_tag": "ABX9TyPWUKch08MvEhR9IFh9S5Fy",
      "include_colab_link": true
    },
    "kernelspec": {
      "name": "python3",
      "display_name": "Python 3"
    },
    "language_info": {
      "name": "python"
    }
  },
  "cells": [
    {
      "cell_type": "markdown",
      "metadata": {
        "id": "view-in-github",
        "colab_type": "text"
      },
      "source": [
        "<a href=\"https://colab.research.google.com/github/mariamjajurie/Linear-Algebra_ChE_2nd-Sem-2021-2022/blob/main/sem_grade_w_emoji.ipynb\" target=\"_parent\"><img src=\"https://colab.research.google.com/assets/colab-badge.svg\" alt=\"Open In Colab\"/></a>"
      ]
    },
    {
      "cell_type": "code",
      "source": [
        "name = input(\"input name: \")\n",
        "course = input(\"enter course name: \")\n",
        "pg = float(input(\"enter prelim grade: \"))\n",
        "mg = float(input(\"enter midterm grade: \"))\n",
        "fg = float(input(\"enter final grade: \"))\n",
        "\n",
        "\n",
        "sem_grade = float (0.30*pg + 0.30*mg + 0.40*fg)\n",
        "\n",
        "print(\"Hello {}, your semestral grade for {} is: {:.2f}\".format(name, course, sem_grade))\n",
        "\n",
        "\n",
        "if(sem_grade > 70.00):\n",
        "  print(\"\\U0001F600\")\n",
        "elif(sem_grade == 70.00):\n",
        "  print(\"\\U0001F606\")\n",
        "elif(sem_grade<70.00):\n",
        "  print(\"\\U0001F62D\")"
      ],
      "metadata": {
        "colab": {
          "base_uri": "https://localhost:8080/"
        },
        "id": "3Ci52buVDpqn",
        "outputId": "79d27805-e2fa-44d4-c3e3-f51b08f836be"
      },
      "execution_count": 2,
      "outputs": [
        {
          "output_type": "stream",
          "name": "stdout",
          "text": [
            "input name: mariam\n",
            "enter course name: linear\n",
            "enter prelim grade: 90\n",
            "enter midterm grade: 70\n",
            "enter final grade: 90\n",
            "Hello mariam, your semestral grade for linear is: 84.00\n",
            "😀\n"
          ]
        }
      ]
    }
  ]
}