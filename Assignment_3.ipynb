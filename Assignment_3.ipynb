{
  "nbformat": 4,
  "nbformat_minor": 0,
  "metadata": {
    "colab": {
      "name": "Assignment 3",
      "provenance": [],
      "collapsed_sections": [],
      "include_colab_link": true
    },
    "kernelspec": {
      "name": "python3",
      "display_name": "Python 3"
    },
    "language_info": {
      "name": "python"
    }
  },
  "cells": [
    {
      "cell_type": "markdown",
      "metadata": {
        "id": "view-in-github",
        "colab_type": "text"
      },
      "source": [
        "<a href=\"https://colab.research.google.com/github/mariamjajurie/Linear-Algebra_ChE_2nd-Sem-2021-2022/blob/main/Assignment_3.ipynb\" target=\"_parent\"><img src=\"https://colab.research.google.com/assets/colab-badge.svg\" alt=\"Open In Colab\"/></a>"
      ]
    },
    {
      "cell_type": "code",
      "source": [
        "import numpy as np\n",
        "import matplotlib.pyplot as plt\n",
        "import scipy.linalg as la\n",
        "%matplotlib inline"
      ],
      "metadata": {
        "id": "ZDUN3QpVTE0p"
      },
      "execution_count": null,
      "outputs": []
    },
    {
      "cell_type": "markdown",
      "source": [
        "##<b> Part 1: Matrices and Linear Equations </b>"
      ],
      "metadata": {
        "id": "1q2obc1XonBO"
      }
    },
    {
      "cell_type": "markdown",
      "source": [
        "1. Given the linear combination below, try to create a corresponding matrix representing it.\n",
        "\n",
        ":$$\\theta = 5x + 3y - z$$\n",
        "\n",
        "\\begin{bmatrix} 5 & 3 & {-1}\\end{bmatrix} \\\\\n"
      ],
      "metadata": {
        "id": "--hGD7WNSVoL"
      }
    },
    {
      "cell_type": "markdown",
      "source": [
        "<b> Given the matrix below, express it as a linear combination in a markdown and a LaTeX markdown </b>\n"
      ],
      "metadata": {
        "id": "7LZryyOpTbcz"
      }
    },
    {
      "cell_type": "code",
      "source": [
        "G = np.array([\n",
        "    [1,7,8],\n",
        "    [2,2,2],\n",
        "    [4,6,7]\n",
        "])"
      ],
      "metadata": {
        "id": "tlLGqfY3SUMH"
      },
      "execution_count": null,
      "outputs": []
    },
    {
      "cell_type": "markdown",
      "source": [
        "\\begin{bmatrix} 1 & 7 & 8 \\\\ 2 & 2 & 2 \\\\ 4 & 6 & 7 \\end{bmatrix}\n",
        "\n",
        "$$\n",
        "G = \\left\\{\\begin{array}\n",
        "1x + 7y +8\\\\\n",
        "2x + 2y + 2\\\\\n",
        "4x + 6y + 7\n",
        "\\end{array}\\right.\n",
        "$$"
      ],
      "metadata": {
        "id": "x1uCJcxR6skZ"
      }
    },
    {
      "cell_type": "markdown",
      "source": [
        "<b> 2. Given the system of linear combinations below, try to encode it as a matrix. Also describe the matrix. </b>\n",
        "\n",
        "$$\n",
        "A = \\left\\{\\begin{array}\n",
        "5x_1 + 2x_2 +x_3\\\\\n",
        "4x_2 - x_3\\\\\n",
        "10x_3\n",
        "\\end{array}\\right.\n",
        "$$"
      ],
      "metadata": {
        "id": "ydkRcF99Skyu"
      }
    },
    {
      "cell_type": "code",
      "source": [
        "def mat_desc(matrix):\n",
        "    if matrix.size > 0:\n",
        "        is_square = True if matrix.shape[0] == matrix.shape[1] else False \n",
        "        print(f'Matrix:\\n{matrix}\\n\\nShape:\\t{matrix.shape}\\nRank:\\t{matrix.ndim}\\nIs Square: {is_square}\\n')\n",
        "    else:\n",
        "      print('Matrix is Null')\n",
        "\n",
        "A = np.array([\n",
        "    [1,2,3],\n",
        "    [0,4,-1],\n",
        "    [0, 0,10]\n",
        "])\n",
        "mat_desc(A)"
      ],
      "metadata": {
        "id": "NIuGrUjs9zJJ",
        "colab": {
          "base_uri": "https://localhost:8080/"
        },
        "outputId": "b451f3a2-9f29-4ff3-f68c-fbedc1958ed0"
      },
      "execution_count": null,
      "outputs": [
        {
          "output_type": "stream",
          "name": "stdout",
          "text": [
            "Matrix:\n",
            "[[ 1  2  3]\n",
            " [ 0  4 -1]\n",
            " [ 0  0 10]]\n",
            "\n",
            "Shape:\t(3, 3)\n",
            "Rank:\t2\n",
            "Is Square: True\n",
            "\n"
          ]
        }
      ]
    },
    {
      "cell_type": "markdown",
      "source": [
        "Given the matrix below, display the output as a LaTeX markdown also express it as a system of linear combinations."
      ],
      "metadata": {
        "id": "31yz3CXREx32"
      }
    },
    {
      "cell_type": "code",
      "source": [
        "H = np.tril(G)\n",
        "H"
      ],
      "metadata": {
        "colab": {
          "base_uri": "https://localhost:8080/"
        },
        "id": "K1ElVZwAE2mP",
        "outputId": "9533a226-fc32-4a5d-b647-8304c01a7bc9"
      },
      "execution_count": null,
      "outputs": [
        {
          "output_type": "execute_result",
          "data": {
            "text/plain": [
              "array([[1, 0, 0],\n",
              "       [2, 2, 0],\n",
              "       [4, 6, 7]])"
            ]
          },
          "metadata": {},
          "execution_count": 8
        }
      ]
    },
    {
      "cell_type": "markdown",
      "source": [
        "\\begin{bmatrix} 1 & 0 & 0 \\\\ 2 & 2 & 0 \\\\ 4 & 6 & 7 \\end{bmatrix}\n",
        "\n",
        "$$\n",
        "H = \\left\\{\\begin{array}\n",
        "1x \\\\\n",
        "2x + 2y \\\\\n",
        "4x + 6y + 7\n",
        "\\end{array}\\right.\n",
        "$$"
      ],
      "metadata": {
        "id": "HlUcUAtWE88j"
      }
    },
    {
      "cell_type": "markdown",
      "source": [
        "##<b> Part 2.1: Matrix Categories </b>"
      ],
      "metadata": {
        "id": "arO0u-ciomCG"
      }
    },
    {
      "cell_type": "code",
      "source": [
        "def mat_desc(mat):\n",
        "    sq = False\n",
        "    mat = np.array(mat)\n",
        "    print(mat)\n",
        "    print('Shape:', mat.shape)\n",
        "    print('Size:', mat.size)\n",
        "    print('Rank:', np.linalg.matrix_rank(mat))\n",
        "    if(mat.shape[0] == mat.shape[1]):\n",
        "        sq = True\n",
        "        print('The matrix is square')\n",
        "    else:\n",
        "        print('The matrix is non-square')\n",
        "    if(mat.shape[0] == 0 and mat.shape[1] == 0):\n",
        "        print('The matrix is empty')\n",
        "    else:\n",
        "        print('The matrix is not empty')\n",
        "    iden = np.identity(mat.shape[0])\n",
        "    if(sq and (iden == mat).all()):\n",
        "        print('The matrix is an identity matrix')\n",
        "    else:\n",
        "        print('The matrix is not an identity matrix')\n",
        "    one = np.ones((mat.shape[0], mat.shape[1]))\n",
        "    if((one == mat).all()):\n",
        "        print('The matrix is an ones matrix')\n",
        "    else:\n",
        "        print('The matrix is not an ones matrix')\n",
        "    zero = np.zeros((mat.shape[0], mat.shape[1]))\n",
        "    if((zero == mat).all()):\n",
        "        print('The matrix is an zeros matrix\\n')\n",
        "    else:\n",
        "        print('The matrix is not a zeros matrix\\n')"
      ],
      "metadata": {
        "id": "wXUKnk9bWNXJ"
      },
      "execution_count": 2,
      "outputs": []
    },
    {
      "cell_type": "code",
      "source": [
        "import numpy as np\n",
        "A = np.array([\n",
        "          [0,2,2,3],\n",
        "          [1,0,2,4],\n",
        "          [1,2,0,6],\n",
        "          [1,2,1,3] \n",
        "])\n",
        "\n",
        "B = np.array([\n",
        "    [1,2,6],\n",
        "    [4,0,3],\n",
        "    [8,1,9]\n",
        "])\n",
        "\n",
        "F = np.array([\n",
        "              [2,4,7,1,8],\n",
        "              [7,8,2,9,6],\n",
        "              [1,2,3,4,5],\n",
        "              [6,7,8,9,1]\n",
        "])\n",
        "\n",
        "X = np.array([\n",
        "              [1,1,1,7],\n",
        "              [1,0,1,2],\n",
        "              [1,1,2,6]\n",
        "])\n",
        "Y = np.array([\n",
        "              [4,7,8,4],\n",
        "              [3,7,8,9],\n",
        "              [3,8,1,6]\n",
        "])\n",
        "\n"
      ],
      "metadata": {
        "id": "7gGEqSLsyQWR"
      },
      "execution_count": 1,
      "outputs": []
    },
    {
      "cell_type": "code",
      "source": [
        "mat_desc(A)\n",
        "mat_desc(B)\n",
        "mat_desc(F)\n",
        "mat_desc(X)\n",
        "mat_desc(Y)"
      ],
      "metadata": {
        "colab": {
          "base_uri": "https://localhost:8080/"
        },
        "id": "QsBLlfep3jJU",
        "outputId": "ac8bc4c8-bf13-435d-9229-bc0043eb1567"
      },
      "execution_count": 3,
      "outputs": [
        {
          "output_type": "stream",
          "name": "stdout",
          "text": [
            "[[0 2 2 3]\n",
            " [1 0 2 4]\n",
            " [1 2 0 6]\n",
            " [1 2 1 3]]\n",
            "Shape: (4, 4)\n",
            "Size: 16\n",
            "Rank: 4\n",
            "The matrix is square\n",
            "The matrix is not empty\n",
            "The matrix is not an identity matrix\n",
            "The matrix is not an ones matrix\n",
            "The matrix is not a zeros matrix\n",
            "\n",
            "[[1 2 6]\n",
            " [4 0 3]\n",
            " [8 1 9]]\n",
            "Shape: (3, 3)\n",
            "Size: 9\n",
            "Rank: 3\n",
            "The matrix is square\n",
            "The matrix is not empty\n",
            "The matrix is not an identity matrix\n",
            "The matrix is not an ones matrix\n",
            "The matrix is not a zeros matrix\n",
            "\n",
            "[[2 4 7 1 8]\n",
            " [7 8 2 9 6]\n",
            " [1 2 3 4 5]\n",
            " [6 7 8 9 1]]\n",
            "Shape: (4, 5)\n",
            "Size: 20\n",
            "Rank: 4\n",
            "The matrix is non-square\n",
            "The matrix is not empty\n",
            "The matrix is not an identity matrix\n",
            "The matrix is not an ones matrix\n",
            "The matrix is not a zeros matrix\n",
            "\n",
            "[[1 1 1 7]\n",
            " [1 0 1 2]\n",
            " [1 1 2 6]]\n",
            "Shape: (3, 4)\n",
            "Size: 12\n",
            "Rank: 3\n",
            "The matrix is non-square\n",
            "The matrix is not empty\n",
            "The matrix is not an identity matrix\n",
            "The matrix is not an ones matrix\n",
            "The matrix is not a zeros matrix\n",
            "\n",
            "[[4 7 8 4]\n",
            " [3 7 8 9]\n",
            " [3 8 1 6]]\n",
            "Shape: (3, 4)\n",
            "Size: 12\n",
            "Rank: 3\n",
            "The matrix is non-square\n",
            "The matrix is not empty\n",
            "The matrix is not an identity matrix\n",
            "The matrix is not an ones matrix\n",
            "The matrix is not a zeros matrix\n",
            "\n"
          ]
        }
      ]
    },
    {
      "cell_type": "markdown",
      "source": [
        "##<b> Part 2.2: Matrix Algebra </b>"
      ],
      "metadata": {
        "id": "_ZDtt-rmzwxk"
      }
    },
    {
      "cell_type": "code",
      "source": [
        "def mat_operations(matrix1, matrix2): \n",
        "  while True:\n",
        "   try:\n",
        "    sum = np.add(matrix1, matrix2) \n",
        "    print(f'Sum: \\n{sum}\\n')\n",
        "    break\n",
        "   except: ValueError\n",
        "   print('Sum: undefined\\n') \n",
        "   break\n",
        "  while True: \n",
        "    try:\n",
        "     difference = np.subtract(matrix1, matrix2) \n",
        "     print(f'Difference: \\n{difference}\\n')\n",
        "     break\n",
        "    except: ValueError\n",
        "    print('Difference: undefined\\n')\n",
        "    break\n",
        "  while True:\n",
        "    try:\n",
        "      elem_wise_mul = np.multiply(matrix1,matrix2)\n",
        "      print(f'Elem-wise multiplication: \\n{elem_wise_mul}\\n')\n",
        "      break\n",
        "    except: ValueError\n",
        "    print('Elem-wise multiplication: undefined\\n')\n",
        "    break\n",
        "  while True:\n",
        "    try:\n",
        "      elem_wise_div = np.divide(matrix1,matrix2)\n",
        "      print(f'Elem-wise divide: \\n{elem_wise_div}\\n')\n",
        "      break\n",
        "    except: ValueError\n",
        "    print('Elem-wise divide: undefined\\n')\n",
        "    break"
      ],
      "metadata": {
        "id": "0ErZKg6Oz2Kk"
      },
      "execution_count": 5,
      "outputs": []
    },
    {
      "cell_type": "code",
      "source": [
        "import numpy as np\n",
        "A = np.array([\n",
        "    [2,2,3],\n",
        "    [1,2,9],\n",
        "    [8,1,4]\n",
        "])\n",
        "\n",
        "B = np.array([\n",
        "    [1,2,6],\n",
        "    [4,2,3],\n",
        "    [8,1,9]\n",
        "])\n",
        "\n",
        "N = np.array([\n",
        "              [5,2,7,4],\n",
        "              [8,6,2,5],\n",
        "              [2,3,2,8],\n",
        "              [3,5,4,2]\n",
        "])\n",
        "\n",
        "T = np.array([\n",
        "    [6,2,8],\n",
        "    [8,1,2],\n",
        "    [7,1,9]\n",
        "])\n",
        "\n",
        "Z = np.array([\n",
        "    [1,2,6],\n",
        "    [4,6,3],\n",
        "    [8,1,9]\n",
        "])\n"
      ],
      "metadata": {
        "id": "d1l-yG0xAo-7"
      },
      "execution_count": 6,
      "outputs": []
    },
    {
      "cell_type": "code",
      "source": [
        "mat_operations(A,B)"
      ],
      "metadata": {
        "colab": {
          "base_uri": "https://localhost:8080/"
        },
        "id": "5Jlix8RSwn-K",
        "outputId": "52b2a9be-b54a-4069-cea1-940be7a8bd26"
      },
      "execution_count": null,
      "outputs": [
        {
          "output_type": "stream",
          "name": "stdout",
          "text": [
            "Sum: \n",
            "[[ 3  4  9]\n",
            " [ 5  4 12]\n",
            " [16  2 13]]\n",
            "\n",
            "Difference: \n",
            "[[ 1  0 -3]\n",
            " [-3  0  6]\n",
            " [ 0  0 -5]]\n",
            "\n",
            "Elem-wise multiplication: \n",
            "[[ 2  4 18]\n",
            " [ 4  4 27]\n",
            " [64  1 36]]\n",
            "\n",
            "Elem-wise divide: \n",
            "[[2.         1.         0.5       ]\n",
            " [0.25       1.         3.        ]\n",
            " [1.         1.         0.44444444]]\n",
            "\n"
          ]
        }
      ]
    },
    {
      "cell_type": "code",
      "source": [
        "mat_operations(T,Z)"
      ],
      "metadata": {
        "colab": {
          "base_uri": "https://localhost:8080/"
        },
        "id": "KVn1gZ-mwtnh",
        "outputId": "4104ec11-d4a3-414c-fbf4-2ef02c4df051"
      },
      "execution_count": null,
      "outputs": [
        {
          "output_type": "stream",
          "name": "stdout",
          "text": [
            "Sum: \n",
            "[[ 7  4 14]\n",
            " [12  7  5]\n",
            " [15  2 18]]\n",
            "\n",
            "Difference: \n",
            "[[ 5  0  2]\n",
            " [ 4 -5 -1]\n",
            " [-1  0  0]]\n",
            "\n",
            "Elem-wise multiplication: \n",
            "[[ 6  4 48]\n",
            " [32  6  6]\n",
            " [56  1 81]]\n",
            "\n",
            "Elem-wise divide: \n",
            "[[6.         1.         1.33333333]\n",
            " [2.         0.16666667 0.66666667]\n",
            " [0.875      1.         1.        ]]\n",
            "\n"
          ]
        }
      ]
    },
    {
      "cell_type": "code",
      "source": [
        "mat_operations(A,Z)"
      ],
      "metadata": {
        "colab": {
          "base_uri": "https://localhost:8080/"
        },
        "id": "6ZFYafEsxLYb",
        "outputId": "54c0d01d-ae1d-4015-cb9f-af6c7442b6f3"
      },
      "execution_count": null,
      "outputs": [
        {
          "output_type": "stream",
          "name": "stdout",
          "text": [
            "Sum: \n",
            "[[ 3  4  9]\n",
            " [ 5  8 12]\n",
            " [16  2 13]]\n",
            "\n",
            "Difference: \n",
            "[[ 1  0 -3]\n",
            " [-3 -4  6]\n",
            " [ 0  0 -5]]\n",
            "\n",
            "Elem-wise multiplication: \n",
            "[[ 2  4 18]\n",
            " [ 4 12 27]\n",
            " [64  1 36]]\n",
            "\n",
            "Elem-wise divide: \n",
            "[[2.         1.         0.5       ]\n",
            " [0.25       0.33333333 3.        ]\n",
            " [1.         1.         0.44444444]]\n",
            "\n"
          ]
        }
      ]
    },
    {
      "cell_type": "code",
      "source": [
        "mat_operations(N,T)"
      ],
      "metadata": {
        "colab": {
          "base_uri": "https://localhost:8080/"
        },
        "id": "KQCb8_512znh",
        "outputId": "d6ecd74e-6da7-44e5-ef3a-c25fa5546bb9"
      },
      "execution_count": 7,
      "outputs": [
        {
          "output_type": "stream",
          "name": "stdout",
          "text": [
            "Sum: undefined\n",
            "\n",
            "Difference: undefined\n",
            "\n",
            "Elem-wise multiplication: undefined\n",
            "\n",
            "Elem-wise divide: undefined\n",
            "\n"
          ]
        }
      ]
    },
    {
      "cell_type": "code",
      "source": [
        "mat_operations(T,B)"
      ],
      "metadata": {
        "colab": {
          "base_uri": "https://localhost:8080/"
        },
        "id": "rvpCMaps29LD",
        "outputId": "b1cf75db-6d0e-48b0-ae07-ebde2d85f915"
      },
      "execution_count": 8,
      "outputs": [
        {
          "output_type": "stream",
          "name": "stdout",
          "text": [
            "Sum: \n",
            "[[ 7  4 14]\n",
            " [12  3  5]\n",
            " [15  2 18]]\n",
            "\n",
            "Difference: \n",
            "[[ 5  0  2]\n",
            " [ 4 -1 -1]\n",
            " [-1  0  0]]\n",
            "\n",
            "Elem-wise multiplication: \n",
            "[[ 6  4 48]\n",
            " [32  2  6]\n",
            " [56  1 81]]\n",
            "\n",
            "Elem-wise divide: \n",
            "[[6.         1.         1.33333333]\n",
            " [2.         0.5        0.66666667]\n",
            " [0.875      1.         1.        ]]\n",
            "\n"
          ]
        }
      ]
    }
  ]
}